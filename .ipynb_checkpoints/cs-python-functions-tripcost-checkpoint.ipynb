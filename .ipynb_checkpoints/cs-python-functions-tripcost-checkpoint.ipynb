{
 "cells": [
  {
   "cell_type": "markdown",
   "metadata": {},
   "source": [
    "## Write a program to calculate the trip costs.\n",
    "\n",
    "a) use appropriate variable, constant and function names.\n",
    "b) don't forget to put comments in the code.\n",
    "c) In comments for each function, do mention the purpose the function, the input parameters and the return value from the function\n"
   ]
  },
  {
   "cell_type": "code",
   "execution_count": 1,
   "metadata": {},
   "outputs": [
    {
     "ename": "SyntaxError",
     "evalue": "invalid syntax (<ipython-input-1-8880c5c442d0>, line 39)",
     "output_type": "error",
     "traceback": [
      "\u001b[0;36m  File \u001b[0;32m\"<ipython-input-1-8880c5c442d0>\"\u001b[0;36m, line \u001b[0;32m39\u001b[0m\n\u001b[0;31m    def other_costs()\u001b[0m\n\u001b[0m                     ^\u001b[0m\n\u001b[0;31mSyntaxError\u001b[0m\u001b[0;31m:\u001b[0m invalid syntax\n"
     ]
    }
   ],
   "source": [
    "# function name: hotel_cost\n",
    "# purpose: to calculate the hotel costs for the number of nights the user what to stay\n",
    "# input parameters:  nights - number of nights to book\n",
    "# return: returns the hotel cost for the number of nights the user wants to stay\n",
    "def hotel_cost(nights):\n",
    "    \n",
    "    # give option to the user 50 pounds/night for Holiday Inn, 90 pounds/night for Hilton and 120 pounds/night for Marriott\n",
    "    # let us the user choose from these 3 options\n",
    "    option_choice= input(\"W\")\n",
    "    \n",
    "    # remember to return the cost for the hotel stay\n",
    "    return \n",
    "\n",
    "\n",
    "def plane_ride_cost(city):\n",
    "    if city==\"Madrid\":\n",
    "        return 270\n",
    "    elif city==\"Paris\":\n",
    "        return 280\n",
    "    elif city==\"Berlin\":\n",
    "        return 220\n",
    "    elif city==\"Edinburgh\":\n",
    "        return 150\n",
    "\n",
    "\n",
    "# use constant names instead of numbers\n",
    "def rental_car_cost(days):\n",
    "    \n",
    "    # fixed charge for one day is 40 pounds\n",
    "    cost=days*40\n",
    "    # add 50 pounds discount if the car is rented for more than 7 days \n",
    "    # add 20 punds discount if the car is rented for more than 3 days\n",
    "   \n",
    "\n",
    "    return cost\n",
    "\n",
    "# write other costs for the trip (food, rides, museum)\n",
    "# define your function for other costs\n",
    "def other_costs()\n",
    "\n",
    "\n",
    "\n",
    "\n",
    "# add other costs in the trip costs\n",
    "def trip_cost(city,days):\n",
    "    print( rental_car_cost(days)+hotel_cost(days)+plane_ride_cost(city) )\n",
    "\n"
   ]
  },
  {
   "cell_type": "code",
   "execution_count": null,
   "metadata": {},
   "outputs": [],
   "source": [
    "# write the main program and call the functions appropriately  \n",
    "\n",
    "\n",
    "# add comments below, what are these variables used for?\n",
    "nights= input(\"Enter nights:\")\n",
    "city= input(\"Enter city:\")\n",
    "days= input (\"Enter days of car rental:\")\n",
    "\n"
   ]
  }
 ],
 "metadata": {
  "kernelspec": {
   "display_name": "Python 3",
   "language": "python",
   "name": "python3"
  },
  "language_info": {
   "codemirror_mode": {
    "name": "ipython",
    "version": 3
   },
   "file_extension": ".py",
   "mimetype": "text/x-python",
   "name": "python",
   "nbconvert_exporter": "python",
   "pygments_lexer": "ipython3",
   "version": "3.6.6"
  }
 },
 "nbformat": 4,
 "nbformat_minor": 2
}
